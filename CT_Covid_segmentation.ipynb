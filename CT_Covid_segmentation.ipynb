{
  "nbformat": 4,
  "nbformat_minor": 0,
  "metadata": {
    "colab": {
      "provenance": []
    },
    "kernelspec": {
      "name": "python3",
      "display_name": "Python 3"
    },
    "language_info": {
      "name": "python"
    },
    "accelerator": "GPU",
    "gpuClass": "standard"
  },
  "cells": [
    {
      "cell_type": "markdown",
      "source": [
        "## Data Loading and preprocessing"
      ],
      "metadata": {
        "id": "B8OlrEDds6Xf"
      }
    },
    {
      "cell_type": "code",
      "source": [
        "# !pip install SimpleITK\n",
        "# !pip install torchio\n",
        "# !pip install monai\n",
        "# !pip install einops\n",
        "\n",
        "# !unzip /content/drive/MyDrive/COVID-19-20_v2.zip\n",
        "\n",
        "# %load_ext tensorboard\n",
        "# %tensorboard --logdir runs\n",
        "\n",
        "import torch\n",
        "import torchvision\n",
        "import numpy as np\n",
        "import pandas as pd\n",
        "import torchio as tio\n",
        "import matplotlib.pyplot as plt\n",
        "import SimpleITK as sitk\n",
        "import functools\n",
        "import logging\n",
        "import einops\n",
        "\n",
        "from monai.networks.nets import VNet\n",
        "from monai.losses import DiceLoss\n",
        "from functools import cached_property\n",
        "from torch.utils.data import Dataset, DataLoader\n",
        "from torch.utils.tensorboard import SummaryWriter\n",
        "\n",
        "writer = SummaryWriter('runs/covid_segmentation')\n",
        "\n",
        "device = 'cuda' if torch.cuda.is_available() else 'cpu'\n",
        "\n",
        "logger = logging.getLogger('CT_logger')\n",
        "logger.setLevel(logging.DEBUG)\n",
        "file_log = logging.FileHandler('ct.log')\n",
        "file_log.setLevel(logging.DEBUG)\n",
        "logger.addHandler(file_log)\n",
        "logger.propagate = False"
      ],
      "metadata": {
        "id": "URjymX51R2_r"
      },
      "execution_count": null,
      "outputs": []
    },
    {
      "cell_type": "code",
      "source": [
        "xlsx = pd.ExcelFile('/content/COVID-19-20_TrainValidation.xlsx')\n",
        "df_train = pd.read_excel(xlsx, 'Train set')\n",
        "df_test = pd.read_excel(xlsx, 'Validation set')\n",
        "\n",
        "val_split = int(len(df_train)*0.8)\n",
        "\n",
        "train_namelist = list(df_train['FILENAME'])[:val_split]\n",
        "val_namelist = list(df_train['FILENAME'])[val_split:]\n",
        "test_namelist = list(df_test['FILENAME'])"
      ],
      "metadata": {
        "id": "wDx4thT7C3iv"
      },
      "execution_count": null,
      "outputs": []
    },
    {
      "cell_type": "code",
      "source": [
        "class CT:\n",
        "  def __init__(self, CT_ID, folder_path):\n",
        "    self.CT_ID = CT_ID\n",
        "    self.folder_path = folder_path\n",
        "  \n",
        "  @cached_property\n",
        "  def volume(self):\n",
        "    try: #change that\n",
        "      ct = sitk.ReadImage(self.folder_path + self.CT_ID + '.nii')\n",
        "    except Exception:\n",
        "      ct = sitk.ReadImage(self.folder_path + self.CT_ID + '_ct.nii')\n",
        "    mask = sitk.ReadImage(self.folder_path + self.CT_ID + '_seg.nii')\n",
        "\n",
        "    ct_np = sitk.GetArrayFromImage(ct)\n",
        "    mask_np = sitk.GetArrayFromImage(mask)\n",
        "\n",
        "    ct_np = self.preprocessing(ct_np)\n",
        "    mask_np = self.preprocessing(mask_np)\n",
        "\n",
        "    return (ct_np, mask_np)\n",
        "  \n",
        "  def preprocessing(self, image):\n",
        "    image = np.clip(image, -1000, 1000)\n",
        "    image = image[:32] # change that\n",
        "\n",
        "    return image"
      ],
      "metadata": {
        "id": "RtHjSAKdCrbc"
      },
      "execution_count": null,
      "outputs": []
    },
    {
      "cell_type": "code",
      "source": [
        "def augment(ct, mask, aug_type):\n",
        "  aug_dict = {'flip': tio.RandomFlip(), \n",
        "              'ED': tio.RandomElasticDeformation(),\n",
        "              'affine': tio.RandomAffine(),\n",
        "              'anistropy': tio.RandomAnisotropy(),\n",
        "              'noise': tio.RandomNoise(),\n",
        "              'blur': tio.RandomBlur(), \n",
        "              'swap': tio.RandomSwap()}\n",
        "  \n",
        "  combined = torch.cat((ct.unsqueeze(0), mask.unsqueeze(0)), 0)\n",
        "\n",
        "  ct, mask = aug_dict[aug_type](combined)\n",
        "\n",
        "  return ct, mask"
      ],
      "metadata": {
        "id": "ZgFo-4nISgrV"
      },
      "execution_count": null,
      "outputs": []
    },
    {
      "cell_type": "code",
      "source": [
        "class CTDataset(Dataset):\n",
        "  def __init__(self, namelist, folder_path, augmentation_list=[]):\n",
        "    self.folder_path = folder_path\n",
        "    namelist_l = len(namelist)\n",
        "    self.namelist = zip(namelist, [None]*namelist_l)\n",
        "    self.namelist = list(self.namelist)\n",
        "    \n",
        "    if augmentation_list:\n",
        "      for aug_type in augmentation_list:\n",
        "        self.namelist += list(zip(namelist, [aug_type]*namelist_l))\n",
        "\n",
        "  def __len__(self):\n",
        "    return len(self.namelist)\n",
        "  \n",
        "  def __getitem__(self, idx):\n",
        "    ct_id, aug_type = self.namelist[idx]\n",
        "    ct, mask = CT(ct_id, self.folder_path).volume\n",
        "    ct, mask = torch.from_numpy(ct), torch.from_numpy(mask)\n",
        "\n",
        "    if aug_type:\n",
        "      ct, mask = augment(ct, mask, aug_type)\n",
        "\n",
        "    return ct, mask"
      ],
      "metadata": {
        "id": "moe_zO__Y2Fc"
      },
      "execution_count": null,
      "outputs": []
    },
    {
      "cell_type": "code",
      "source": [
        "trainset = CTDataset(train_namelist, '/content/Train/',\n",
        "                     augmentation_list=['flip', 'affine', 'noise', 'swap'])\n",
        "\n",
        "valset = CTDataset(val_namelist, '/content/Train/')\n",
        "\n",
        "trainloader = DataLoader(trainset, batch_size=1, shuffle=True)\n",
        "valloader = DataLoader(valset, batch_size=1, shuffle=True)"
      ],
      "metadata": {
        "id": "rAE7iwOndxLr"
      },
      "execution_count": null,
      "outputs": []
    },
    {
      "cell_type": "markdown",
      "source": [
        "## Model training"
      ],
      "metadata": {
        "id": "eaINJzUPbx4a"
      }
    },
    {
      "cell_type": "code",
      "source": [
        "model = VNet(in_channels=1, out_channels=1).to(device)"
      ],
      "metadata": {
        "id": "qPbhDME-b4Vs"
      },
      "execution_count": null,
      "outputs": []
    },
    {
      "cell_type": "code",
      "source": [
        "class ModelEvaluation:\n",
        "  def __init__(self, model, loader):\n",
        "    self.model = model\n",
        "    self.loader = loader\n",
        "\n",
        "    self.loss_fn = self.DiceLoss\n",
        "    self.optimizer = torch.optim.Adam(self.model.parameters(), lr=0.001)\n",
        "  \n",
        "  def DiceLoss(self, pred_mask, true_mask): # fix dimension issue\n",
        "    inter = (pred_mask * true_mask).sum(dim=[1,2,3,4])\n",
        "    union = pred_mask.sum(dim=[1,2,3,4]) + true_mask.sum(dim=[1,2,3,4])\n",
        "    dice = 1-(2*inter + 1)/(union + 1)\n",
        "    \n",
        "    return dice.mean()\n",
        "  \n",
        "  def train(self, epochs=1):\n",
        "\n",
        "    gc.collect()\n",
        "    torch.cuda.empty_cache()\n",
        "\n",
        "    self.model.train()\n",
        "    for epoch in range(epochs):\n",
        "      for batch, (ct, mask) in enumerate(self.loader):\n",
        "        ct = ct.unsqueeze(1).to(device, dtype=torch.float32)\n",
        "        mask = mask.unsqueeze(1).to(device, dtype=torch.float32)\n",
        "        model_out = self.model(ct)\n",
        "\n",
        "        loss = self.loss_fn(model_out, mask)\n",
        "        if batch % 10 == 0: \n",
        "          writer.add_scalar('Loss/train', loss, batch)\n",
        "          logger.debug(f'DEBUG| location: ModelEvalutation.train | epoch: {epoch}, batch: {batch} loss: {loss.item()}')\n",
        "          \n",
        "        self.optimizer.zero_grad()\n",
        "        loss.backward()\n",
        "        self.optimizer.step()\n",
        "      \n",
        "  \n",
        "    writer.add_graph(self.model, ct)\n",
        "    writer.flush()"
      ],
      "metadata": {
        "id": "Y8jv0Io3kTev"
      },
      "execution_count": null,
      "outputs": []
    },
    {
      "cell_type": "code",
      "source": [
        "evaluate = ModelEvaluation(model, trainloader)"
      ],
      "metadata": {
        "id": "SBT5-tL9EweB"
      },
      "execution_count": null,
      "outputs": []
    },
    {
      "cell_type": "code",
      "source": [
        "import gc\n",
        "evaluate.train()"
      ],
      "metadata": {
        "colab": {
          "base_uri": "https://localhost:8080/",
          "height": 304
        },
        "id": "yXVEX3cYE3Bk",
        "outputId": "f4ae4d0f-035b-4672-e83e-b8cdcc6c415f"
      },
      "execution_count": null,
      "outputs": [
        {
          "output_type": "error",
          "ename": "KeyboardInterrupt",
          "evalue": "ignored",
          "traceback": [
            "\u001b[0;31m---------------------------------------------------------------------------\u001b[0m",
            "\u001b[0;31mKeyboardInterrupt\u001b[0m                         Traceback (most recent call last)",
            "\u001b[0;32m<ipython-input-10-ece0f5993ca4>\u001b[0m in \u001b[0;36m<cell line: 2>\u001b[0;34m()\u001b[0m\n\u001b[1;32m      1\u001b[0m \u001b[0;32mimport\u001b[0m \u001b[0mgc\u001b[0m\u001b[0;34m\u001b[0m\u001b[0;34m\u001b[0m\u001b[0m\n\u001b[0;32m----> 2\u001b[0;31m \u001b[0mevaluate\u001b[0m\u001b[0;34m.\u001b[0m\u001b[0mtrain\u001b[0m\u001b[0;34m(\u001b[0m\u001b[0;34m)\u001b[0m\u001b[0;34m\u001b[0m\u001b[0;34m\u001b[0m\u001b[0m\n\u001b[0m",
            "\u001b[0;32m<ipython-input-8-749ea4d3f116>\u001b[0m in \u001b[0;36mtrain\u001b[0;34m(self, epochs)\u001b[0m\n\u001b[1;32m     22\u001b[0m     \u001b[0;32mfor\u001b[0m \u001b[0mepoch\u001b[0m \u001b[0;32min\u001b[0m \u001b[0mrange\u001b[0m\u001b[0;34m(\u001b[0m\u001b[0mepochs\u001b[0m\u001b[0;34m)\u001b[0m\u001b[0;34m:\u001b[0m\u001b[0;34m\u001b[0m\u001b[0;34m\u001b[0m\u001b[0m\n\u001b[1;32m     23\u001b[0m       \u001b[0;32mfor\u001b[0m \u001b[0mbatch\u001b[0m\u001b[0;34m,\u001b[0m \u001b[0;34m(\u001b[0m\u001b[0mct\u001b[0m\u001b[0;34m,\u001b[0m \u001b[0mmask\u001b[0m\u001b[0;34m)\u001b[0m \u001b[0;32min\u001b[0m \u001b[0menumerate\u001b[0m\u001b[0;34m(\u001b[0m\u001b[0mself\u001b[0m\u001b[0;34m.\u001b[0m\u001b[0mloader\u001b[0m\u001b[0;34m)\u001b[0m\u001b[0;34m:\u001b[0m\u001b[0;34m\u001b[0m\u001b[0;34m\u001b[0m\u001b[0m\n\u001b[0;32m---> 24\u001b[0;31m         \u001b[0mct\u001b[0m \u001b[0;34m=\u001b[0m \u001b[0mct\u001b[0m\u001b[0;34m.\u001b[0m\u001b[0munsqueeze\u001b[0m\u001b[0;34m(\u001b[0m\u001b[0;36m1\u001b[0m\u001b[0;34m)\u001b[0m\u001b[0;34m.\u001b[0m\u001b[0mto\u001b[0m\u001b[0;34m(\u001b[0m\u001b[0mdevice\u001b[0m\u001b[0;34m,\u001b[0m \u001b[0mdtype\u001b[0m\u001b[0;34m=\u001b[0m\u001b[0mtorch\u001b[0m\u001b[0;34m.\u001b[0m\u001b[0mfloat32\u001b[0m\u001b[0;34m)\u001b[0m\u001b[0;34m\u001b[0m\u001b[0;34m\u001b[0m\u001b[0m\n\u001b[0m\u001b[1;32m     25\u001b[0m         \u001b[0mmask\u001b[0m \u001b[0;34m=\u001b[0m \u001b[0mmask\u001b[0m\u001b[0;34m.\u001b[0m\u001b[0munsqueeze\u001b[0m\u001b[0;34m(\u001b[0m\u001b[0;36m1\u001b[0m\u001b[0;34m)\u001b[0m\u001b[0;34m.\u001b[0m\u001b[0mto\u001b[0m\u001b[0;34m(\u001b[0m\u001b[0mdevice\u001b[0m\u001b[0;34m,\u001b[0m \u001b[0mdtype\u001b[0m\u001b[0;34m=\u001b[0m\u001b[0mtorch\u001b[0m\u001b[0;34m.\u001b[0m\u001b[0mfloat32\u001b[0m\u001b[0;34m)\u001b[0m\u001b[0;34m\u001b[0m\u001b[0;34m\u001b[0m\u001b[0m\n\u001b[1;32m     26\u001b[0m         \u001b[0mmodel_out\u001b[0m \u001b[0;34m=\u001b[0m \u001b[0mself\u001b[0m\u001b[0;34m.\u001b[0m\u001b[0mmodel\u001b[0m\u001b[0;34m(\u001b[0m\u001b[0mct\u001b[0m\u001b[0;34m)\u001b[0m\u001b[0;34m\u001b[0m\u001b[0;34m\u001b[0m\u001b[0m\n",
            "\u001b[0;31mKeyboardInterrupt\u001b[0m: "
          ]
        }
      ]
    }
  ]
}